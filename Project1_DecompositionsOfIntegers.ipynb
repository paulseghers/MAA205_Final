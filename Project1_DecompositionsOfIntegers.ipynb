{
 "cells": [
  {
   "cell_type": "markdown",
   "metadata": {},
   "source": [
    "<img src='./figures/logo-ecole-polytechnique-ve.jpg' style='position:absolute; top:0; right:0;' width='100px' height='' alt='' />\n",
    "\n",
    "<center>**Bachelor of Ecole Polytechnique**</center>\n",
    "<center>Computational Mathematics, year 2, semester 1</center>\n",
    "<center>Lecturer: Lucas Gerin <a href=\"mailto:lucas.gerin@polytechnique.edu\">(send mail)</a></center>\n",
    "\n",
    "# Project 1: Decompositions of integers\n"
   ]
  },
  {
   "cell_type": "markdown",
   "metadata": {
    "collapsed": true
   },
   "source": [
    "<div markdown=1 class=Abstract>\n",
    "* 30% Recursive programming\n",
    "* 20% Arithmetic\n",
    "* 20% Recurrences with `SymPy`\n",
    "* 15% Generating functions\n",
    "* 15% Combinatorics"
   ]
  },
  {
   "cell_type": "markdown",
   "metadata": {},
   "source": [
    "## Table of contents\n",
    "\n",
    "(The three parts are independent.)\n",
    "\n",
    "- [Ordered decompositions](#OrderedDecomposition)\n",
    "- [$L$-decompositions of integers](#Ldecomposition)\n",
    "- [Non-increasing decompositions](#NID)\n"
   ]
  },
  {
   "cell_type": "code",
   "execution_count": 1,
   "metadata": {},
   "outputs": [
    {
     "data": {
      "text/html": [
       "<link href='http://fonts.googleapis.com/css?family=Fenix' rel='stylesheet' type='text/css'>\n",
       "<link href='http://fonts.googleapis.com/css?family=Alegreya+Sans:100,300,400,500,700,800,900,100italic,300italic,400italic,500italic,700italic,800italic,900italic' rel='stylesheet' type='text/css'>\n",
       "<link href='http://fonts.googleapis.com/css?family=Source+Code+Pro:300,400' rel='stylesheet' type='text/css'>\n",
       "<link href=\"https://fonts.googleapis.com/css?family=Oswald|Raleway\" rel=\"stylesheet\" type='text/css'> \n",
       "<style>\n",
       ".prompt{\n",
       "    display: none !important;\n",
       "}\n",
       "\n",
       ".rendered_html pre {\n",
       "    border: 1px solid #f0f6f9 !important;\n",
       "}\n",
       "\n",
       ".rendered_html pre, .rendered_html code {\n",
       "    background-color: #d3d8db !important;\n",
       "    padding: 1% !important;\n",
       "    line-height: 200% !important;\n",
       "    border-radius: 10px !important;\n",
       "}\n",
       "\n",
       "div.input_area {\n",
       "    border-radius: 10px !important;\n",
       "    background-color: #e1e1e6 !important;\n",
       "}\n",
       "\n",
       "div.cell{\n",
       "        width:85% !important;\n",
       "        margin-left:5% !important;\n",
       "        /*margin-right:auto;*/\n",
       "    }\n",
       "    h1, h2, h3, h4, h5 {\n",
       "        font-family: 'Oswald', sans-serif; !important;\n",
       "        font-style: oblique !important;\n",
       "    }\n",
       "    div.text_cell_render{\n",
       "        font-family: 'Raleway', sans-serif; !important;\n",
       "        line-height: 135% !important;\n",
       "        font-size: 120% !important;\n",
       "        width:100%;/*600px;*/\n",
       "        /*margin-left:auto;*/\n",
       "        /*margin-right:auto;*/\n",
       "    }\n",
       "    .CodeMirror{\n",
       "            font-family: \"Source Code Pro\" !important;\n",
       "\t\t\tfont-size: 100% !important;\n",
       "    }\n",
       "    .text_cell_render p{\n",
       "        text-align: justify !important;\n",
       "    }\n",
       "    .text_cell_render h1 {\n",
       "        font-weight: 200 !important;\n",
       "\t\tline-height: 100% !important;\n",
       "        color:#47597A !important;\n",
       "        margin-bottom: 10.em !important;\n",
       "        margin-top: 50.em !important;\n",
       "        padding-bottom: 50.em !important;\n",
       "        padding-top: 50.em !important;\n",
       "        display: block !important;\n",
       "        font-size: 300% !important;\n",
       "        text-align: center !important;\n",
       "        border-bottom: 1px solid #47597A !important;\n",
       "        border-top: 1px solid #47597A !important;\n",
       "    }\n",
       "    .text_cell_render h2 {\n",
       "        font-weight: 200 !important;\n",
       "\tline-height: 100% !important;\n",
       "        color:#47597A !important;\n",
       "        margin-bottom: 0.5em !important;\n",
       "        margin-top: 0.5em !important;\n",
       "        display: block !important;\n",
       "        font-size: 200% !important;\n",
       "        border-bottom: 1px solid #47597A !important;\n",
       "    }\n",
       "    .text_cell_render h3 {\n",
       "        font-weight: 200 !important;\n",
       "\tline-height: 100% !important;\n",
       "        color:#47597A !important;\n",
       "        margin-bottom: 0.5em !important;\n",
       "        margin-top: 0.5em !important;\n",
       "        display: block !important;\n",
       "        font-size: 150% !important;\n",
       "    }\n",
       "    .text_cell_render h4 {\n",
       "        font-style: italic !important;\n",
       "        font-weight: bold !important;\n",
       "\tline-height: 100% !important;\n",
       "        color:#47597A !important;\n",
       "        display: block !important;\n",
       "        font-size: 100% !important;\n",
       "    }\n",
       "    .text_cell_render h5 {\n",
       "        font-weight: 200 !important;\n",
       "\tline-height: 100% !important;\n",
       "        color:#47597A !important;\n",
       "        margin-bottom: 0.5em !important;\n",
       "        margin-top: 0.5em !important;\n",
       "        display: block !important;\n",
       "        font-size: 100% !important;\n",
       "    }\n",
       "    .text_cell_render ul {\n",
       "\tlist-style-type: disc !important;\n",
       "\tline-height: 2;\n",
       "\t/*color:#47597A !important;*/\n",
       "    }\n",
       "    .warning{\n",
       "        color: rgb( 240, 20, 20 ) !important;\n",
       "        }\n",
       "    .Abstract {  \n",
       "\ttext-align: justify;\n",
       "\tbackground-color: #d6edf9;\n",
       "\tborder-left: 5px solid #47597A;\n",
       "\tpadding: 0.5em;\n",
       "\tmargin: 0  150px 0 150px;\n",
       "    }\n",
       "    .Def {    \n",
       "\tbackground-color: #d9f7d7;\n",
       "\tborder-left: 5px solid #4a7047;\n",
       "\tpadding: 0.5em;\n",
       "    }\n",
       "    .Def:before {\n",
       "\tcontent: \"Definition.\";\n",
       "\tcolor:#4a7047;\n",
       "\tfont-weight: bold;\n",
       "\tfont-style: normal;\n",
       "    }\n",
       "    .DoIt {    \n",
       "\tbackground-color: #A9F5BC;\n",
       "\tborder-left: 5px solid #0A2A12;\n",
       "\tpadding: 0.5em;\n",
       "    }\n",
       "    .DoIt:before {\n",
       "\tcontent: \"Suggestion.\";\n",
       "\tcolor:#0A2A12;\n",
       "\tfont-weight: bold;\n",
       "\tfont-style: normal;\n",
       "    }\n",
       "    .Answers {    \n",
       "\tbackground-color: #DDA0DD;\n",
       "\tborder-left: 5px solid #9932CC;\n",
       "\tpadding: 0.5em;\n",
       "    }\n",
       "    .Answers:before {\n",
       "\tcontent: \"Answers.\";\n",
       "\tcolor:#682145;\n",
       "\tfont-weight: bold;\n",
       "\tfont-style: normal;\n",
       "    }\n",
       "    .Prop {    \n",
       "\tbackground-color:#f9ecd1;\n",
       "\tborder-left: 5px solid #ba7021;\n",
       "\tpadding: 0.5em;\n",
       "    }\n",
       "   .Prop:before {\n",
       "       content: \"Further questions.\";\n",
       "       color:#ba7021;\n",
       "       font-weight: bold;\n",
       "       font-style: normal;\n",
       "    }\n",
       "   .Thm {    \n",
       "\tbackground-color:#f9ecd1;\n",
       "\tborder-left: 5px solid #ba7021;\n",
       "\tpadding: 0.5em;\n",
       "    }\n",
       "   .Thm:before {\n",
       "       content: \"Theorem.\";\n",
       "       color:#ba7021;\n",
       "       font-weight: bold;\n",
       "       font-style: normal;\n",
       "    } \n",
       "   .Algo {    \n",
       "\tbackground-color:#f9ecd1;\n",
       "\tborder-left: 5px solid #ba7021;\n",
       "\tpadding: 0.5em;\n",
       "    }\n",
       "   .Algo:before {\n",
       "       content: \"Algorithm.\";\n",
       "       color:#ba7021;\n",
       "       font-weight: bold;\n",
       "       font-style: normal;\n",
       "    }\n",
       "    .Rmk {    \n",
       "\tbackground-color: #dbf1fc;\n",
       "\tborder-left: 5px solid #385487;\n",
       "\tpadding: 0.5em;\n",
       "    }\n",
       "    .Rmk:before {\n",
       "\tcontent: \"Remark.\";\n",
       "\tcolor:#385487;\n",
       "\tfont-weight: bold;\n",
       "\tfont-style: normal;\n",
       "    }\n",
       "    .Ex {    \n",
       "\tbackground-color: #dbf1fc;\n",
       "\tborder-left: 5px solid #385487;\n",
       "\tpadding: 0.5em;\n",
       "    }\n",
       "    .Ex:before {\n",
       "\tcontent: \"Example.\";\n",
       "\tcolor:#385487;\n",
       "\tfont-weight: bold;\n",
       "\tfont-style: normal;\n",
       "    }\n",
       "\n",
       "/*    .toc-item-num {\n",
       "#        display: none;\n",
       "#    }\n",
       "*/\n",
       "    .reveal section img{\n",
       "        margin: 0px auto;\n",
       "    }\n",
       "\n",
       "    div.output_area img{\n",
       "        display: block;\n",
       "        margin: 0px auto;\n",
       "    }\n",
       "  \n",
       "</style>\n",
       "\n",
       "<script>\n",
       "MathJax.Hub.Config({\n",
       "TeX: {extensions: [\"AMSmath.js\"] },\n",
       "                tex2jax: {\n",
       "                    inlineMath: [ ['$','$'], [\"\\\\(\",\"\\\\)\"] ],\n",
       "                    displayMath: [ ['$$','$$'], [\"\\\\[\",\"\\\\]\"] ]\n",
       "                },\n",
       "                displayAlign: 'center', // Change this to 'center' to center equations.\n",
       "                \"HTML-CSS\": {\n",
       "                    styles: {'.MathJax_Display': {\"margin\": 4}}\n",
       "                }\n",
       "        });\n",
       "\n",
       "\n",
       "\n",
       "</script>\n"
      ],
      "text/plain": [
       "<IPython.core.display.HTML object>"
      ]
     },
     "execution_count": 1,
     "metadata": {},
     "output_type": "execute_result"
    }
   ],
   "source": [
    "# execute this part to modify the css style\n",
    "from IPython.core.display import HTML\n",
    "def css_styling():\n",
    "    styles = open(\"./style/customProject.css\").read()\n",
    "    return HTML(styles)\n",
    "css_styling()"
   ]
  },
  {
   "cell_type": "code",
   "execution_count": 2,
   "metadata": {
    "collapsed": true
   },
   "outputs": [],
   "source": [
    "## loading python libraries\n",
    "\n",
    "# necessary to display plots inline:\n",
    "%matplotlib inline   \n",
    "\n",
    "# load the libraries\n",
    "import matplotlib.pyplot as plt # 2D plotting library\n",
    "import numpy as np              # package for scientific computing  \n",
    "\n",
    "from math import *              # package for mathematics (pi, arctan, sqrt, factorial ...)\n",
    "import sympy as sympy           # package for symbolic computation\n"
   ]
  },
  {
   "cell_type": "markdown",
   "metadata": {},
   "source": [
    "Here are two cells that you can copy/paste throughout the Notebook:"
   ]
  },
  {
   "cell_type": "markdown",
   "metadata": {},
   "source": [
    "<div markdown=1 class=\"Answers\"> \n",
    "<i>Your answer.</i>"
   ]
  },
  {
   "cell_type": "markdown",
   "metadata": {},
   "source": [
    "<div markdown=1 class=\"Prop\"> \n",
    "<i>In this cell you can add your own additional questions (math or python).</i>"
   ]
  },
  {
   "cell_type": "markdown",
   "metadata": {},
   "source": [
    "<a id=\"OrderedDecomposition\"></a>\n",
    "# Ordered decompositions\n",
    "\n",
    "An <i>ordered decomposition</i> of $n\\geq 1$ is a finite sequence of positive integers $(a_1,\\dots,a_k)$ for some $k$, such that\n",
    "<br>\n",
    "$$\n",
    "n=a_1+a_2+\\dots +a_k. \\qquad (\\$)\n",
    "$$\n",
    "<br>\n",
    "Let $D_n$ be the number of ordered decompositions of $n$. For example we have that $D_4=8$:\n",
    "\\begin{align*}\n",
    "4&=4\\\\\n",
    "&=1+3=3+1\\\\\n",
    "&=1+1+2=1+2+1=2+1+1\\\\\n",
    "&=2+2\\\\\n",
    "&=1+1+1+1.\n",
    "\\end{align*}\n",
    "(We see that order matters.)"
   ]
  },
  {
   "cell_type": "markdown",
   "metadata": {},
   "source": [
    "<div markdown=1 class=\"DoIt\"> \n",
    "1. Write a function `Ordered(n)` which returns the list of all ordered decompositions of $n$.\n",
    "2. **(Theory)** How many ordered decompositions of $n$ are there?"
   ]
  },
  {
   "cell_type": "markdown",
   "metadata": {},
   "source": [
    "<div markdown=1 class=\"Answers\"><i>  \n",
    "1) In this part, we want to generate all ordered decompositions of $n$.  \n",
    "Let $A = (a_1, ... a_k)$.  \n",
    "Notice that:\n",
    "- If $k = 1$ then $A = (n)$.\n",
    "- If $k \\geq 2$ then $1 \\leq a_1 \\leq n-1$. For each value of $a_1$, we have: $n-a_1 = a_2 + ... + a_k$. Thus $A' = (a_2, ... a_k)$ is an ordered decomposition of $n-a_1$.  \n",
    "Thus the recursive algorithm would be: $A = (n)$ is a valid decomposition. For each value of $a_1$, generate all ordered decompositions of $n-a_1$. For each of such decomposition $A'$, then $A = (a_1)+A'$ is an ordered decompositions of $n$. We can easily see that all of such decompositions are not duplicated (explains why order matters)."
   ]
  },
  {
   "cell_type": "code",
   "execution_count": 3,
   "metadata": {},
   "outputs": [
    {
     "name": "stdout",
     "output_type": "stream",
     "text": [
      "n = 1: len = 1, Ordered(n) = [[1]]\n",
      "n = 2: len = 2, Ordered(n) = [[2], [1, 1]]\n",
      "n = 3: len = 4, Ordered(n) = [[3], [1, 2], [1, 1, 1], [2, 1]]\n",
      "n = 4: len = 8, Ordered(n) = [[4], [1, 3], [1, 1, 2], [1, 1, 1, 1], [1, 2, 1], [2, 2], [2, 1, 1], [3, 1]]\n",
      "n = 5: len = 16, Ordered(n) = [[5], [1, 4], [1, 1, 3], [1, 1, 1, 2], [1, 1, 1, 1, 1], [1, 1, 2, 1], [1, 2, 2], [1, 2, 1, 1], [1, 3, 1], [2, 3], [2, 1, 2], [2, 1, 1, 1], [2, 2, 1], [3, 2], [3, 1, 1], [4, 1]]\n"
     ]
    }
   ],
   "source": [
    "def Ordered(n):\n",
    "    res = [[n]]\n",
    "    for m in range(1, n):\n",
    "        for d in Ordered(n-m):\n",
    "            res.append([m]+d)\n",
    "    return res\n",
    "\n",
    "# Testing\n",
    "for n in range(1, 6):\n",
    "    r = Ordered(n)\n",
    "    print(\"n = {}: len = {}, Ordered(n) = {}\".format(n, len(r), r))"
   ]
  },
  {
   "cell_type": "markdown",
   "metadata": {},
   "source": [
    "<div markdown=1 class=\"Answers\"><i>  \n",
    "2) From the previous code, we can guess that the number of ordered decompositions for $n$ is $2^{n-1}$. We will prove it using strong induction.  \n",
    "Let $S_n$ be the number of ordered decompositions of $n$. Notice that from the algorithm, we have the following equation: $S_1 = 1, S_n = 1+(S_1+S_2+...S_{n-1})$.\n",
    "- Base case: $n = 1: S_n = 1 = 2^0 = 2^{n-1}$ (True)\n",
    "- Asumme $S_n = 2^{n-1}$ is true for $n = 1, 2, ..., k$, we will show that it is also true for $n = k+1$.  \n",
    "We have: $S_n = S_{k+1} = 1+\\sum_{m = 1}^k S_m = 1+\\sum_{m = 1}^k 2^{m-1} = 1 + (2^k-1) = 2^k = 2^{n-1}$.  \n",
    "Thus by induction, we see that $S_n = 2^{n-1}$."
   ]
  },
  {
   "cell_type": "markdown",
   "metadata": {},
   "source": [
    "<div markdown=1 class=\"DoIt\"> \n",
    "1. Write a function `OrderedBounded(n,k)` which returns the list of all ordered decompositions of $n$, if we impose that every $a_i$ in equation ($\\$ $) is such that $a_i\\leq k$.\n",
    "2. Let $D_{n,k}$ be the number of ordered decompositions of $n$ where $a_i$'s are bounded by $k$. Can you find a formula for $D_{n,k}$ (at least for $k=2,3,4$)? Or just the order of growth (when $n\\to+\\infty$) of the sequence $(D_{n,k})_n$?<br>\n",
    "<i>(You can use `solve`, `rsolve`, matrices, generating functions...)</i>"
   ]
  },
  {
   "cell_type": "markdown",
   "metadata": {},
   "source": [
    "<div markdown=1 class=\"Answers\"><i>  \n",
    "1) Using the same idea with the algorithm from the previous part, the only different now is the condition $a_1 \\leq k$. Thus the range of $a_1$ is $1 \\leq a_1 \\leq min(k, n-1)$. Also $A = (n)$ is a valid decomposition if and only if $n \\leq k$."
   ]
  },
  {
   "cell_type": "code",
   "execution_count": 4,
   "metadata": {},
   "outputs": [
    {
     "name": "stdout",
     "output_type": "stream",
     "text": [
      "n = 1\n",
      "- k = 1, count = 1, res = [[1]]\n",
      "n = 2\n",
      "- k = 1, count = 1, res = [[1, 1]]\n",
      "- k = 2, count = 2, res = [[2], [1, 1]]\n",
      "n = 3\n",
      "- k = 1, count = 1, res = [[1, 1, 1]]\n",
      "- k = 2, count = 3, res = [[1, 2], [1, 1, 1], [2, 1]]\n",
      "- k = 3, count = 4, res = [[3], [1, 2], [1, 1, 1], [2, 1]]\n",
      "n = 4\n",
      "- k = 1, count = 1, res = [[1, 1, 1, 1]]\n",
      "- k = 2, count = 5, res = [[1, 1, 2], [1, 1, 1, 1], [1, 2, 1], [2, 2], [2, 1, 1]]\n",
      "- k = 3, count = 7, res = [[1, 3], [1, 1, 2], [1, 1, 1, 1], [1, 2, 1], [2, 2], [2, 1, 1], [3, 1]]\n",
      "- k = 4, count = 8, res = [[4], [1, 3], [1, 1, 2], [1, 1, 1, 1], [1, 2, 1], [2, 2], [2, 1, 1], [3, 1]]\n"
     ]
    }
   ],
   "source": [
    "def OrderedBounded(n, k):\n",
    "    res = [[n]] if n <= k else []\n",
    "    for m in range(1, 1+min(k, n-1)):\n",
    "        for d in OrderedBounded(n-m, k):\n",
    "            res.append([m]+d)\n",
    "    return res\n",
    "\n",
    "# Testing\n",
    "for n in range(1, 5):\n",
    "    print(\"n = {}\".format(n))\n",
    "    for k in range(1, n+1):\n",
    "        r = OrderedBounded(n, k)\n",
    "        print(\"- k = {}, count = {}, res = {}\".format(k, len(r), r))"
   ]
  },
  {
   "cell_type": "markdown",
   "metadata": {},
   "source": [
    "Let $D_{n, k}$ be the number of ordered decompositions of $n$ where $a_i \\leq k$. We will try to find the formula for $D_{n, k}$ by finding the pattern with small $k$.  "
   ]
  },
  {
   "cell_type": "code",
   "execution_count": 5,
   "metadata": {},
   "outputs": [
    {
     "name": "stdout",
     "output_type": "stream",
     "text": [
      "k = 2\n",
      "Sequence of D_n: 1 2 3 5 8 13 21 34 55 \n",
      "k = 3\n",
      "Sequence of D_n: 1 2 4 7 13 24 44 81 149 \n",
      "k = 4\n",
      "Sequence of D_n: 1 2 4 8 15 29 56 108 208 \n"
     ]
    }
   ],
   "source": [
    "for k in [2, 3, 4]:\n",
    "    print(\"k = {}\".format(k))\n",
    "    print(\"Sequence of D_n: \", end=\"\")\n",
    "    for n in range(1, 10):\n",
    "        r = OrderedBounded(n, k)\n",
    "        print(\"{}\".format(len(r)), end=\" \")\n",
    "    print()"
   ]
  },
  {
   "cell_type": "markdown",
   "metadata": {},
   "source": [
    "<div markdown=1 class=\"Answers\"><i>  \n",
    "2) From the algorithm, we see the following equation: $D_{n, k} = 1_{n \\leq k} + \\sum_{m = 1}^{min(k, n-1)} D_{n-m, k}$  \n",
    "$\\Rightarrow D_{n, k} = 1+\\sum_{m = 1}^{n-1} D_{m, k}$ for $n \\leq k$, $D_{n, k} = \\sum_{m = n-k}^{n-1} D_{m, k}$ for $n \\geq k+1$  \n",
    "Note that for the case of $n <= k$, from the previous part we have proven that the number of ordered decompositions in such case is $2^{n-1}$, or formally $D_{n, k} = 2^{n-1}$ with $n \\leq k$.  \n",
    "Therefore, we have:  \n",
    "$D_{n, k} = 2^{n-1}$ for $n = 1,...k$, $D_{n, k} = \\sum_{m = n-k}^{n-1} D_{m, k} = D_{n-k, k}+...+D_{n-1, k}$ for $n > k$\n",
    "\n",
    "Fix k. We will find the formula of $D_{n, k}$.  \n",
    "Let $Z_n = \\left(\\begin{array}{cc} D_{n, k} \\\\ D_{n+1, k} \\\\ ... \\\\ D_{n+(k-1), k} \\\\ \\end{array}\\right)$. Then $Z_1 = \\left(\\begin{array}{cc} 2^0 \\\\ 2^1 \\\\ ... \\\\ 2^{k-1} \\\\ \\end{array}\\right)$.  \n",
    "And we have the following relation:\n",
    "$\\left(\\begin{array}{cc} D_{n+1, k} \\\\ D_{n+2, k} \\\\ ... \\\\ D_{n+(k-1), k} \\\\ D_{n+k, k} \\\\ \\end{array}\\right) =\n",
    "\\left(\\begin{array}{cc}\n",
    "0 & 1 & 0 & 0 & ... \\\\\n",
    "0 & 0 & 1 & 0 & ... \\\\\n",
    "0 & ... & ... & ... & ... \\\\\n",
    "0 & ... & ... & ... & 1 \\\\ \n",
    "1 & 1 & 1 & ... & 1 \\\\ \\end{array}\\right)\n",
    "\\left(\\begin{array}{cc} D_{n, k} \\\\ D_{n+1, k} \\\\ ... \\\\ ... \\\\ D_{n+(k-1), k} \\\\ \\end{array}\\right)$  \n",
    "\n",
    "Or $Z_{n+1} = AZ_n$ with $A$ is a $k*k$ matrix: $A_{i, j} = 1$ if $i = k$ or $i < k, j = i+1$, $A_{i, j} = 0$ otherwise.  \n",
    "From here, we can easily deduce the general formula for $Z_n$: $Z_n = A^{n-1}Z_1$ and $D_{n, k} = (Z_n)_1$ ($k = 2$ is the Fibonacci sequence).\n",
    "\n",
    "We will study the order of growth of $D_{n, k}$ by studying the matrix $A$.  \n",
    "\n",
    "\n",
    "We can easily see that the characteristic polynomial of $A$ is the polynomial: $x^k = x^{k-1}+x^{k-2}...+x+1$ or $P(x) = x^k-x^{k-1}-x^{k-2}...-x-1 = 0$ (due to $D_{n, k} = \\sum_{m = n-k}^{n-1} D_{m, k} = D_{n-k, k}+...+D_{n-1, k}$).  \n",
    "Assume all of its eigenvalues are different (it is true but too complicated to prove here) then we have that $Z_n$ is a linear combination of its eigenvalues taking power of $n$, or more formally, $Z_n = \\sum_{m = 1}^k c_m\\lambda_m^n$.  \n",
    "(This can be seen because by diagonalization $A = D^{-1}BD$ then $A^n = D^{-1}B^nD \\Rightarrow A^{n-1}Z_1 = D^{-1}B^nD(A^{-1}Z_1)$, and $B^n$ is the diagonal matrix where its value on the diagonal line is $(\\lambda_m)^n$.  \n",
    "Therefore, with $\\lambda = max(|\\lambda_m|)$, $Z_n \\sim c\\lambda^n$, or the order of growth of $D_{n, k}$ is equal to the max eigenvalues of $A$, or max of norms of roots of $P(x)$.  \n",
    "\n",
    "For smaller case of $k$:\n",
    "- k = 2: $A = \\left(\\begin{array}{cc} 0 & 1 \\\\ 1 & 1 \\\\ \\end{array}\\right) \\Rightarrow P(X) = X^2-X-1 = 0 \\Rightarrow max(|\\lambda_k|) = \\frac{1+\\sqrt{5}}{2} \\sim 1.618$\n",
    "- k = 3: $A = \\left(\\begin{array}{cc} 0 & 1 & 0 \\\\ 0 & 0 & 1 \\\\ 1 & 1 & 1 \\\\ \\end{array}\\right) \\Rightarrow P(X) = X^3-X^2-X-1 = 0 \\Rightarrow max(|\\lambda_k|) \\sim 1.8393$\n",
    "- k = 4: $A = \\left(\\begin{array}{cc} 0 & 1 & 0 & 0 \\\\ 0 & 0 & 1 & 0 \\\\ 0 & 0 & 0 & 1 \\\\ 1 & 1 & 1 & 1 \\\\ \\end{array}\\right) \\Rightarrow P(X) = X^4-X^3-X^2-X-1 = 0 \\Rightarrow max(|\\lambda_k|) \\sim 1.9276$"
   ]
  },
  {
   "cell_type": "code",
   "execution_count": 6,
   "metadata": {},
   "outputs": [
    {
     "name": "stdout",
     "output_type": "stream",
     "text": [
      "Order of growth for k = 2: 1.618\n",
      "Order of growth for k = 3: 1.8393\n",
      "Order of growth for k = 4: 1.9276\n"
     ]
    }
   ],
   "source": [
    "x = sympy.symbols('x')\n",
    "\n",
    "P = {2: x**2-x-1, 3: x**3-x**2-x-1, 4: x**4-x**3-x**2-x-1}\n",
    "for k in [2, 3, 4]:\n",
    "    res = sympy.solve(P[k], x)\n",
    "    abs_root = []\n",
    "    for root in res:\n",
    "        abs_root.append(sympy.re(sympy.N(sympy.Abs(root))))\n",
    "    print(\"Order of growth for k = {}: {}\".format(k, round(max(abs_root), 4)))"
   ]
  },
  {
   "cell_type": "markdown",
   "metadata": {},
   "source": [
    "<a id=\"Ldecomposition\"></a>\n",
    "# $L$-decompositions of integers\n",
    "\n",
    "This problem is defined as follows. Let $L=[a_1,a_2,\\dots,a_k]$ be a list of distinct positive integers. \n",
    "\n",
    "For a fixed integer $n\\geq 1$ we ask for the number of solutions  $(x_1,\\dots,x_k)$ to the equation<br><br>\n",
    "$$\n",
    "a_1 x_1 +a_2 x_2 + \\dots a_k x_k=n, \\qquad\\qquad (\\star)\n",
    "$$\n",
    "<br>\n",
    "where $x_i$'s are non-negative integers.\n",
    "We denote by $H_n(L)$ be the number of such solutions. For example, $H_6([1,2,5])=5$, since\n",
    "\n",
    "\\begin{align*}\n",
    "6&=1\\times 1+1\\times 5 \\\\\n",
    "&=3\\times 2\\\\\n",
    "&=2\\times 1+2\\times 2\\\\\n",
    "&=4\\times 1+1\\times 2\\\\\n",
    "&=6\\times 1 \n",
    "\\end{align*}\n",
    "\n",
    "In other words, the solutions to $(\\star)$ are:\n",
    "$$\n",
    "(x_1,x_2,x_3)=(1,0,1),\\quad (0,3,0),\\quad (2,2,0),\\quad (4,1,0),\\quad (6,0,0) \n",
    "$$\n",
    "\n",
    "The typical questions we will ask are:\n",
    "* Can we find an exact formula for $H_n(L)$? (At least when $L$ is simple.)\n",
    "* How does $H_n(L)$ grow when $n\\to +\\infty$? (Can we find a simple equivalent?)\n",
    "* How to find all the solutions of equation $(\\star)$?\n"
   ]
  },
  {
   "cell_type": "markdown",
   "metadata": {},
   "source": [
    "## The particular case $L=[1,2,5]$"
   ]
  },
  {
   "cell_type": "markdown",
   "metadata": {},
   "source": [
    "<div markdown=1 class=\"DoIt\"> \n",
    "1. Write $H_n([1,2])$ in terms of $H_1([1,2]),\\dots,H_{n-1}([1,2])$. Write  $H_n([1,2,5])$ as a function of $H_1([1,2]),\\dots,H_n([1,2])$ and  $H_1([1,2,5]),\\dots,H_{n-1}([1,2,5])$ (prove your formulas).\n",
    "\n",
    "2. Deduce from these recurrence formulas:\n",
    " - A function `NumberSolutions125(n)` which computes $H_n([1,2,5])$.\n",
    " - A plot of $n\\mapsto H_n([1,2,5])$. Can you guess the order of growth of $H_n([1,2,5])$ when $n$ grows?"
   ]
  },
  {
   "cell_type": "markdown",
   "metadata": {},
   "source": [
    "<div markdown=1 class=\"Answers\"><i>  \n",
    "1) Consider $L = [1, 2]$, then $x + 2y = n$.  \n",
    "Let $S_n = \\{(x, y) | x+2y = n\\}$, then $H_n([1, 2]) = |S_n|$. Note that $(0, y) \\in S_n$ if and only if n is divisible by 2. Therefore:\n",
    "- If n is divisible 2: The map $f: S_n \\backslash (0, \\frac{n}{2}) \\rightarrow S_{n-1}: f((x, y)) = (x-1, y)$ is bijective $\\Rightarrow |S_n| = |S_{n-1}|+1$\n",
    "-  If n is not divisible 2: The map $f: S_n \\rightarrow S_{n-1}: f((x, y)) = (x-1, y)$ is bijective $\\Rightarrow |S_n| = |S_{n-1}|$  \n",
    "Thus, $H_n([1, 2]) = H_{n-1}([1, 2]) + 1_{2|n}$ and $H_1[1, 2] = 1$ (only solution is $(x, y) = (1, 0)$)\n",
    "\n",
    "Consider $L = [1, 2, 5]$, then $x + 2y + 5z = n$  \n",
    "Let\n",
    "$$T_n = \\{(x, y, z) \\, | \\, x+2y+5z = n\\} \\Rightarrow H_n([1, 2, 5]) = |T_n|$$.  \n",
    "Also, let $T'_n = \\{(x, y, 0) \\, | \\, x+2y = n\\}$.  \n",
    "The map $f: T'_n \\rightarrow S_n: f((x, y, 0)) = (x, y)$ is bijective (because $x+2y+0z = x+2y = n$) $\\Rightarrow |T'_n| = |S_n|$.  \n",
    "We can easily see that $T'_n \\subset T_n$ and $T_n \\backslash T'_n = \\{(x, y, z) \\, | \\, x+2y+5z = n, z > 0\\}$.  \n",
    "Also: $H_n([1, 2, 5]) = |T_n| = |T'_n| + |T_n \\backslash T'_n| = |S_n| + |T_n \\backslash T'_n| = H_n([1, 2]) + |T_n \\backslash T'_n|$\n",
    "- If $n < 5$ then $5z < 5$ or $z = 0$, so $T_n \\backslash T'_n = \\emptyset$\n",
    "- If $n = 5$ then $T_n \\backslash T'_n = \\{(0, 0, 1)\\}$.\n",
    "- If $n > 5$ then the map $g: T_n \\backslash T'_n \\rightarrow T_{n-5}: f((x, y, z)) = (x, y, z-1)$ is bijective (because $x+2y+5(z-1) = x+2y+5z-5 = n-5$) $\\Rightarrow |T_n \\backslash T'_n| = |T_{n-5}|$  \n",
    "Thus, $H_n([1, 2, 5]) = H_n([1, 2])$ for $n < 5$, $H_n([1, 2, 5]) = H_n([1, 2]) + 1$ for $n = 5$, $H_n([1, 2, 5]) = H_{n-5}([1, 2, 5]) + H_n([1, 2])$ for $n \\geq 5$"
   ]
  },
  {
   "cell_type": "markdown",
   "metadata": {},
   "source": [
    "A small note here is if we code the algorithm naively, the program would suffer from slow speed at large value of $n$ due to too much calculations from recursion. Thus we would improve the speed by using dynamic programming (memoization). We would also optimize the speed of calculating $H_n([1, 2])$ by a small observation that $H_n([1, 2]) = \\frac{n}{2}+1$ if $n$ is even, $H_n([1, 2]) = \\frac{n-1}{2}+1$ if $n$ is odd (easily be proven by induction) or in short $H_n([1, 2]) = \\lfloor\\frac{n}{2}\\rfloor+1$ "
   ]
  },
  {
   "cell_type": "code",
   "execution_count": 64,
   "metadata": {},
   "outputs": [
    {
     "data": {
      "image/png": "[encoded data removed]",
      "text/plain": [
       "<matplotlib.figure.Figure at 0x7f4175962eb8>"
      ]
     },
     "metadata": {},
     "output_type": "display_data"
    }
   ],
   "source": [
    "# L = [1, 2]\n",
    "def NumberofSolution12(n):\n",
    "    if (n == 1): return 1\n",
    "    return NumberofSolution12(n-1)+(0 if n % 2 else 1)\n",
    "    \n",
    "# L = [1, 2, 5]\n",
    "def NumberofSolution125(n):\n",
    "    if (n < 5): return NumberofSolution12(n)\n",
    "    if (n == 5): return NumberofSolution12(n)+1\n",
    "    return NumberofSolution125(n-5)+NumberofSolution12(n)\n",
    "\n",
    "# Improved algorithms \n",
    "def N12(n): return n//2 + 1\n",
    "\n",
    "memory = {}\n",
    "def N125(n):\n",
    "    if (n < 5): return N12(n)\n",
    "    if (n == 5): return N12(n)+1\n",
    "    if n in memory: return memory[n]\n",
    "    res = N125(n-5)+N12(n)\n",
    "    memory[n] = res\n",
    "    return res\n",
    "    \n",
    "# Plotting\n",
    "maxn = 1000000\n",
    "N = np.arange(1, maxn)\n",
    "Hn = []\n",
    "for n in N:\n",
    "    Hn.append(N125(n))\n",
    "\n",
    "plt.figure(figsize=(16, 8))\n",
    "plt.plot(N, Hn, label=\"Hn\")\n",
    "plt.title(\"Graph of Hn = Hn([1, 2, 5])\")\n",
    "plt.xlabel(\"n\")\n",
    "plt.ylabel(\"Hn\")\n",
    "plt.legend()\n",
    "plt.show()"
   ]
  },
  {
   "cell_type": "markdown",
   "metadata": {},
   "source": [
    "<div markdown=1 class=\"Answers\"><i>  \n",
    "We want to guess the growth rate of $H_n([1, 2, 5])$.  \n",
    "Note that $H_n([1, 2]) \\sim \\frac{n}{2}$, thus $H_n([1, 2, 5]) \\sim \\frac{n}{2}+\\frac{n-5}{2}+\\frac{n-10}{2}+...$, (around $\\frac{n}{5}$ terms), which means $H_n([1, 2, 5])$ grows quadratically: $H_n([1, 2, 5]) = O(n^2)$  \n",
    "\n",
    "Moreover, we see that $\\frac{n}{2}+\\frac{n-5}{2}+\\frac{n-10}{2}+... \\sim \\frac{\\frac{n}{2}}{2}\\centerdot\\frac{n}{5} \\sim \\frac{n^2}{20}$ (arithmetic sequence).\n",
    "\n",
    "We will graph our guess to check the hypothesis."
   ]
  },
  {
   "cell_type": "code",
   "execution_count": 65,
   "metadata": {},
   "outputs": [
    {
     "data": {
      "image/png": "[encoded data removed]",
      "text/plain": [
       "<matplotlib.figure.Figure at 0x7f4170e7d8d0>"
      ]
     },
     "metadata": {},
     "output_type": "display_data"
    }
   ],
   "source": [
    "# Check our guess\n",
    "Gn = []\n",
    "for n in N:\n",
    "    Gn.append(1/20*n**2)\n",
    "\n",
    "plt.figure(figsize=(16, 8))\n",
    "plt.plot(N, Hn, label=\"Hn\")\n",
    "plt.plot(N, Gn, label=\"Gn\")\n",
    "plt.title(\"Graph of Hn and Guess: Gn \")\n",
    "plt.xlabel(\"n\")\n",
    "plt.ylabel(\"Hn/Guess\")\n",
    "plt.legend()\n",
    "plt.show()"
   ]
  },
  {
   "cell_type": "markdown",
   "metadata": {},
   "source": [
    "<div markdown=1 class=\"Answers\"><i>  \n",
    "The above graph did confirm our hypothesis: $H_n([1, 2, 5]) \\sim \\frac{n^2}{20}$. In the following part, we will try to find the explicit formula for $H_n([1, 2, 5])$ to cross-check with this result."
   ]
  },
  {
   "cell_type": "markdown",
   "metadata": {},
   "source": [
    "<div markdown=1 class=\"DoIt\"> **(More difficult)**\n",
    "Use the recurrence formulas to find an explicit formula for the number $H_n([1,2,5])$ with `SymPy`. You can use pen & paper, `solve`, `rsolve`, ... You can compare different methods!"
   ]
  },
  {
   "cell_type": "markdown",
   "metadata": {},
   "source": [
    "<div markdown=1 class=\"Answers\"><i>\n",
    "We have the following equation from the previous part:  \n",
    "- $H_n([1, 2]) = 1+\\lfloor\\frac{n}{2}\\rfloor$\n",
    "- $H_n([1, 2, 5]) = H_n([1, 2])$ for $n < 5$, $H_n([1, 2, 5]) = H_n([1, 2]) + 1$ for $n = 5$, $H_n([1, 2, 5]) = H_{n-5}([1, 2, 5]) + H_n([1, 2])$ for $n \\geq 5$  \n",
    "\n",
    "We can easily see that the sequence $H_n([1, 2, 5])$ can be decomposed as 5 recursive sequences.  \n",
    "More formally, with $k \\in [1, 2, 3, 4, 5]$, let\n",
    "$$(S_k)_n: (S_k)_i = H_{5(i-1)+k}([1, 2, 5]) \\, \\forall i \\geq 1$$  \n",
    "\n",
    "We will consider the case $k = 1$ here:\n",
    "$$(S_1)_n: (S_1)_1 = H_1([1, 2, 5]) = 1, \\\\\n",
    "\\forall n \\geq 1: (S_1)_{n+1} = H_{5n+1}([1, 2, 5]) = H_{5n-4}([1, 2, 5])+H_{5n+1}([1, 2]) = (S_1)_n + \\lfloor\\frac{5n+1}{2}\\rfloor$$\n",
    "\n",
    "Thus, for $n \\geq 3$:\n",
    "$$(S_1)_{n+1} = (S_1)_n + \\lfloor\\frac{5n+1}{2}\\rfloor \\\\\n",
    "(S_1)_{n-1} = (S_1)_{n-2} + \\lfloor\\frac{5(n-2)+1}{2}\\rfloor = (S_1)_{n-2} + \\lfloor\\frac{5n+1}{2}\\rfloor-5 \\\\\n",
    "\\Rightarrow (S_1)_{n+1} = (S_1)_{n}+(S_1)_{n-1}-(S_1)_{n-2}+5$$\n",
    "\n",
    "Let's try with `rsolve` from `sympy`"
   ]
  },
  {
   "cell_type": "code",
   "execution_count": 33,
   "metadata": {},
   "outputs": [
    {
     "name": "stdout",
     "output_type": "stream",
     "text": [
      "None\n"
     ]
    }
   ],
   "source": [
    "S = sympy.Function('S')\n",
    "n = sympy.symbols('n', integer=True)\n",
    "f = S(n+1)-S(n)-S(n-1)+S(n-2)\n",
    "Formula = sympy.rsolve(f, S(n), {S(1): 1, S(2): 5, S(3): 11})\n",
    "\n",
    "print(str(Formula))"
   ]
  },
  {
   "cell_type": "markdown",
   "metadata": {},
   "source": [
    "<div markdown=1 class=\"Answers\"><i> As we can see, `rsolve` failed to solve the sequence. We will continue solving the sequence manually.  \n",
    "\n",
    "To make the sequence homogenuous: for $n \\geq 4$:\n",
    "$$(S_1)_{n+1} = (S_1)_n+(S_1)_{n-1}-(S_1)_{n-2}+5 \\\\\n",
    "(S_1)_n = (S_1)_{n-1}+(S_1)_{n-2}-(S_1)_{n-3}+5 \\\\\n",
    "\\Rightarrow (S_1)_{n+1} = 2(S_1)_n-2(S_1)_{n-2}+(S_1)_{n-3}$$  \n",
    "\n",
    "The characteristic polynomial of the sequence is:\n",
    "$$X^4 = 2X^3-2X+1 \\Rightarrow (X-1)^3(X+1) = 0$$  \n",
    "\n",
    "Therefore the general form of the sequence is:\n",
    "$$S_n = (c_0+c_1n+c_2n^2)1^n + c_3(-1)^n = c_0+c_1n+c_2n^2+c_3(-1)^n$$\n",
    "with $c_0, c_1, c_2, c_3$ are constants depends on initial values $S_1, S_2, S_3, S_4$\n",
    "\n",
    "Plug in the value when $n = 1, 2, 3, 4$, we have:\n",
    "$$\n",
    "S_1 = c_0+c_1+c_2-c_3 = 1 \\\\\n",
    "S_2 = c_0+2c_1+4c_2+c_3 = 5 \\\\\n",
    "S_3 = c_0+3c_1+9c_2-c_3 = 11 \\\\\n",
    "S_4 = c_0+4c_1+16c_2+c_3 = 20 \\\\\n",
    "\\Rightarrow\n",
    "\\left(\\begin{array}{cc} c_0 \\\\ c_1 \\\\ c_2 \\\\ c_3 \\\\ \\end{array}\\right) =\n",
    "\\left(\\begin{array}{cc}\n",
    "1 & 1 & 0 & -1 \\\\\n",
    "1 & 2 & 4 & 1 \\\\\n",
    "1 & 3 & 9 & -1 \\\\\n",
    "1 & 4 & 16 & 1 \\\\ \\end{array}\\right)^{-1}\n",
    "\\left(\\begin{array}{cc} 1 \\\\ 5 \\\\ 11 \\\\ 20 \\\\ \\end{array}\\right) = \n",
    "\\left(\\begin{array}{cc} \\frac{-1}{8} \\\\ 0 \\\\ \\frac{5}{4} \\\\ \\frac{1}{8} \\\\ \\end{array}\\right)\n",
    "$$\n",
    "\n",
    "Therefore we obtain the formula:\n",
    "$$H_{5n-4} = (S_1)_n = \\frac{10n^2-1+(-1)^n}{8} \\forall n \\geq 1$$"
   ]
  },
  {
   "cell_type": "code",
   "execution_count": 49,
   "metadata": {},
   "outputs": [
    {
     "name": "stdout",
     "output_type": "stream",
     "text": [
      "n = 4: S1_(n+1) = 31, 2*S1_(n)-2*S1_(n-2)+S1_(n-3) = 31\n",
      "n = 5: S1_(n+1) = 45, 2*S1_(n)-2*S1_(n-2)+S1_(n-3) = 45\n",
      "n = 6: S1_(n+1) = 61, 2*S1_(n)-2*S1_(n-2)+S1_(n-3) = 61\n",
      "n = 7: S1_(n+1) = 80, 2*S1_(n)-2*S1_(n-2)+S1_(n-3) = 80\n",
      "n = 8: S1_(n+1) = 101, 2*S1_(n)-2*S1_(n-2)+S1_(n-3) = 101\n",
      "n = 9: S1_(n+1) = 125, 2*S1_(n)-2*S1_(n-2)+S1_(n-3) = 125\n",
      "_______\n",
      "Matrix([[-1/8], [0], [5/4], [1/8]])\n",
      "_______\n",
      "n = 1: S1_(n) = 1, guess(n) = 1.0\n",
      "n = 2: S1_(n) = 5, guess(n) = 5.0\n",
      "n = 3: S1_(n) = 11, guess(n) = 11.0\n",
      "n = 4: S1_(n) = 20, guess(n) = 20.0\n",
      "n = 5: S1_(n) = 31, guess(n) = 31.0\n",
      "n = 6: S1_(n) = 45, guess(n) = 45.0\n",
      "n = 7: S1_(n) = 61, guess(n) = 61.0\n",
      "n = 8: S1_(n) = 80, guess(n) = 80.0\n",
      "n = 9: S1_(n) = 101, guess(n) = 101.0\n",
      "n = 10: S1_(n) = 125, guess(n) = 125.0\n",
      "n = 11: S1_(n) = 151, guess(n) = 151.0\n",
      "n = 12: S1_(n) = 180, guess(n) = 180.0\n",
      "n = 13: S1_(n) = 211, guess(n) = 211.0\n",
      "n = 14: S1_(n) = 245, guess(n) = 245.0\n"
     ]
    }
   ],
   "source": [
    "#Double check recursive sequence\n",
    "\n",
    "def S1(n): return N125(5*n-4)\n",
    "for n in range(4, 10):\n",
    "    print(\"n = {}: S1_(n+1) = {}, 2*S1_(n)-2*S1_(n-2)+S1_(n-3) = {}\".format(n, S1(n+1), 2*S1(n)-2*S1(n-2)+S1(n-3)))\n",
    "\n",
    "print(\"_______\")\n",
    "#Calculating the constants\n",
    "\n",
    "mat = sympy.Matrix([[1, 1, 1, -1], [1, 2, 4, 1], [1, 3, 9, -1], [1, 4, 16, 1]])\n",
    "z = sympy.Matrix([[1], [5], [11], [20]])\n",
    "print(mat**(-1)*z)\n",
    "\n",
    "print(\"_______\")\n",
    "#Double check the answer\n",
    "def guess1(n): return (10*n**2-1+(-1)**n)/8\n",
    "\n",
    "for n in range(1, 15):\n",
    "    print(\"n = {}: S1_(n) = {}, guess(n) = {}\".format(n, S1(n), guess1(n)))"
   ]
  },
  {
   "cell_type": "markdown",
   "metadata": {},
   "source": [
    "<div markdown=1 class=\"Answers\"><i>  \n",
    "From the code above, we obtain the desire results of case $k = 1$"
   ]
  },
  {
   "cell_type": "markdown",
   "metadata": {},
   "source": [
    "<div markdown=1 class=\"DoIt\"> \n",
    "Write a function `ListOfSolutions(n)` which returns the list of all solutions to equation $(\\star)$ when $L=[1,2,5]$."
   ]
  },
  {
   "cell_type": "markdown",
   "metadata": {},
   "source": [
    "<div markdown=1 class=\"Answers\"><i>\n",
    "We want to generate all solutions with $L = [1, 2, 5]$ or $\\{(x, y, z) | x+2y+5z = n\\}$. The simpliest way to generate them is the brute force with 3 nested for loops.  \n",
    "Note that $x \\leq n, y \\leq \\lfloor\\frac{n}{2}\\rfloor, y \\leq \\lfloor\\frac{n}{5}\\rfloor$"
   ]
  },
  {
   "cell_type": "code",
   "execution_count": 13,
   "metadata": {},
   "outputs": [
    {
     "name": "stdout",
     "output_type": "stream",
     "text": [
      "n = 0: [[0, 0, 0]]\n",
      "n = 1: [[1, 0, 0]]\n",
      "n = 2: [[0, 1, 0], [2, 0, 0]]\n",
      "n = 3: [[1, 1, 0], [3, 0, 0]]\n",
      "n = 4: [[0, 2, 0], [2, 1, 0], [4, 0, 0]]\n",
      "n = 5: [[0, 0, 1], [1, 2, 0], [3, 1, 0], [5, 0, 0]]\n",
      "n = 6: [[0, 3, 0], [1, 0, 1], [2, 2, 0], [4, 1, 0], [6, 0, 0]]\n",
      "n = 7: [[0, 1, 1], [1, 3, 0], [2, 0, 1], [3, 2, 0], [5, 1, 0], [7, 0, 0]]\n",
      "n = 8: [[0, 4, 0], [1, 1, 1], [2, 3, 0], [3, 0, 1], [4, 2, 0], [6, 1, 0], [8, 0, 0]]\n",
      "n = 9: [[0, 2, 1], [1, 4, 0], [2, 1, 1], [3, 3, 0], [4, 0, 1], [5, 2, 0], [7, 1, 0], [9, 0, 0]]\n",
      "n = 10: [[0, 0, 2], [0, 5, 0], [1, 2, 1], [2, 4, 0], [3, 1, 1], [4, 3, 0], [5, 0, 1], [6, 2, 0], [8, 1, 0], [10, 0, 0]]\n",
      "n = 11: [[0, 3, 1], [1, 0, 2], [1, 5, 0], [2, 2, 1], [3, 4, 0], [4, 1, 1], [5, 3, 0], [6, 0, 1], [7, 2, 0], [9, 1, 0], [11, 0, 0]]\n"
     ]
    }
   ],
   "source": [
    "def ListOfSolutions(n):\n",
    "    res = []\n",
    "    for x in range(n+1):\n",
    "        for y in range(n//2+1):\n",
    "            for z in range(n//5+1):\n",
    "                if (x+2*y+5*z == n): res.append([x, y, z])\n",
    "    return res\n",
    "\n",
    "# Testing\n",
    "for n in range(12):\n",
    "    print(\"n = {}: {}\".format(n, ListOfSolutions(n)))"
   ]
  },
  {
   "cell_type": "markdown",
   "metadata": {},
   "source": [
    "<div markdown=1 class=\"DoIt\"> \n",
    "1. **(Theory)** Find the generating function associated to the sequence $H_n([1,2,5])$. \n",
    "2. Deduce another function `NumberSolutions125_GF(n)` which returns $H_n([1,2,5])$. You can compare execution times with `NumberSolutions125(n)`.\n",
    "3. Use generating functions to prove (or reprove) using `SymPy` an explicit formula for $H_n([1,2,5])$. You can also us generating functions to find an asymptotic equivalent of $H_n([1,2,5])$."
   ]
  },
  {
   "cell_type": "markdown",
   "metadata": {},
   "source": [
    "## The case of a general $L$\n",
    "We turn to the general case: we want to write a function `NumberSolutions(n,L)` which takes as input an integer $n$ and a list $L$ and returns $H_n(L)$."
   ]
  },
  {
   "cell_type": "markdown",
   "metadata": {},
   "source": [
    "<div markdown=1 class=\"DoIt\"> \n",
    "1. Write a function `NumberSolutions(n,L)` which returns the number of solutions to $(\\star)$. (In particular `NumberSolutions(n,[1,2,5])` should be equal to `NumberSolutions125(n)`.) Explain mathematically why your algorithm is correct.\n",
    "\n",
    "2. Plot $n\\mapsto H_n(L)$ with several $L$'s which show that different kinds of asymptotic behaviours may arise.\n",
    "3. Write a function `ListOfSolutions(n,L)` which returns the list of all solutions to equation $(\\star)$ in the general case.\n"
   ]
  },
  {
   "cell_type": "markdown",
   "metadata": {},
   "source": [
    "<div markdown=1 class=\"DoIt\">  **(Theory)** \n",
    "\n",
    "1. Find a condition on $L$ which ensures that for every large enough $n$, $H_n(L)$ is always $>0$.\n",
    "2. Find a formula for the generating function associated to $H_n(L)$.\n",
    "3. **(More difficult)** Using generating functions, find the order of growth of $H_n(L)$. You can make some restrictions on $L$."
   ]
  },
  {
   "cell_type": "markdown",
   "metadata": {},
   "source": [
    "<a id=\"NID\"></a>\n",
    "# Non-increasing decompositions\n",
    "\n",
    "A <i>non-increasing decomposition</i> (NID) of $n\\geq 1$ in $k$ <i>parts</i> is a non-increasing sequence of positive integers $u_1\\geq u_2 \\geq  \\dots \\geq u_k$ such that\n",
    "$$\n",
    "n=u_1+u_2+\\dots +u_k.\n",
    "$$\n",
    "\n",
    "For example there are $4$ NIDs of $n=7$ in $k=3$ parts:\n",
    "\\begin{align*}\n",
    "7&= 5+1+1\\\\\n",
    "&= 4+2+1\\\\\n",
    "&=3+3+1\\\\\n",
    "&= 3+2+2.\n",
    "\\end{align*}\n",
    "\n",
    "We denote by $N_{n,k}$ the number of NIDs of $n$ in $k$ parts and by $N_n=\\sum_{k\\geq 1} N_{n,k}$ the total number of NIDs. We set $N_0=1$."
   ]
  },
  {
   "cell_type": "markdown",
   "metadata": {},
   "source": [
    "<div markdown=1 class=\"DoIt\"> \n",
    "1. Write a function `NID(n,k)` which returns the value of $N_{n,k}$. Same question for $N_{n}$ (try to write an efficient algorithm).\n",
    "2. Can you use your function to estimate an approximation of the order of growth of $N_n$? \n",
    "3. Write a function `ListNID(n,k)` which returns the list of all NIDs of $n$ in $k$ parts. "
   ]
  },
  {
   "cell_type": "markdown",
   "metadata": {},
   "source": [
    "A NID of $n$ with parts less than $j$ is a NID of $n$ of the form $j\\geq u_1\\geq u_2 \\geq  \\dots \\geq u_k$ for some $k$.<br><br>\n",
    "For example there are $4$ NIDs of $n=7$ with parts less than $j=2$:\n",
    "\\begin{align*}\n",
    "7&= 2+2+2+1\\\\\n",
    "&= 2+1+1+1+1+1\\\\\n",
    "&=1+1+1+1+1+1+1\\\\\n",
    "\\end{align*}\n",
    "Let $L_{n,j}$ be the number of NIDs of $n$ in parts less than $j$."
   ]
  },
  {
   "cell_type": "markdown",
   "metadata": {},
   "source": [
    "<div markdown=1 class=\"DoIt\"> \n",
    "1. Write a function `NID_less_than_j(n,j)` which returns the value of $L_{n,j}$.\n",
    "2. **(Difficult)** Can you find a combinatorial proof that\n",
    "$$\n",
    "\\sum_{k\\leq j} N_{n,k} = L_{n,j}?\n",
    "$$\n",
    "3. Check this conjecture with your functions. (You can test the formula even if you were not able to prove it.)"
   ]
  },
  {
   "cell_type": "markdown",
   "metadata": {},
   "source": [
    "### NIDs with generating functions **(More difficult)**"
   ]
  },
  {
   "cell_type": "markdown",
   "metadata": {},
   "source": [
    "One can prove that the following formula for the generating function of $N_n$ is given by<br>\n",
    "<br>\n",
    "$$\n",
    "\\mathcal{N}(x)=\\sum_{n= 0}^{+\\infty} N_n x^n = \\prod_{k= 1}^{+\\infty} \\frac{1}{1-x^k}.\\qquad (\\star)\n",
    "$$"
   ]
  },
  {
   "cell_type": "markdown",
   "metadata": {},
   "source": [
    "<div markdown=1 class=\"DoIt\"> \n",
    "1. Justify the formula ($\\star$). <i>(A fully rigorous proof is beyond the level of Bachelor 2.)</i> \n",
    "2. Use `SymPy` to write a script that uses ($\\star$) to compute $N_1,\\dots,N_{20}$.<br>\n",
    "(<i>You can try 2) even if you did not succeed at question 1) </i>)"
   ]
  }
 ],
 "metadata": {
  "kernelspec": {
   "display_name": "Python 3",
   "language": "python",
   "name": "python3"
  },
  "language_info": {
   "codemirror_mode": {
    "name": "ipython",
    "version": 3
   },
   "file_extension": ".py",
   "mimetype": "text/x-python",
   "name": "python",
   "nbconvert_exporter": "python",
   "pygments_lexer": "ipython3",
   "version": "3.6.8"
  }
 },
 "nbformat": 4,
 "nbformat_minor": 2
}
